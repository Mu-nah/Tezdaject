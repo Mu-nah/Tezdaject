{
 "cells": [
  {
   "cell_type": "markdown",
   "metadata": {},
   "source": [
    "**MOVIE RECOMMENDER SYSTEM**"
   ]
  },
  {
   "cell_type": "code",
   "execution_count": 1,
   "metadata": {},
   "outputs": [],
   "source": [
    "#Import Libraries\n",
    "import numpy as np\n",
    "import pandas as pd\n",
    "import ast\n",
    "import matplotlib.pyplot as plt\n",
    "import seaborn as sns\n",
    "from sklearn.feature_extraction.text import TfidfVectorizer\n",
    "from sklearn.metrics.pairwise import cosine_similarity\n",
    "from sklearn.preprocessing import MinMaxScaler"
   ]
  },
  {
   "cell_type": "code",
   "execution_count": 2,
   "metadata": {},
   "outputs": [],
   "source": [
    "#Load Dataset\n",
    "movies_df = pd.read_csv(\"movies.csv\")"
   ]
  },
  {
   "cell_type": "code",
   "execution_count": null,
   "metadata": {},
   "outputs": [],
   "source": [
    "#Inspect Dataset\n",
    "display(movies_df.head())\n",
    "display(movies_df.info())"
   ]
  },
  {
   "cell_type": "code",
   "execution_count": null,
   "metadata": {},
   "outputs": [],
   "source": [
    " #check for duplicates\n",
    "movies_df.duplicated().sum()"
   ]
  },
  {
   "cell_type": "code",
   "execution_count": null,
   "metadata": {},
   "outputs": [],
   "source": [
    "#Handle the missing values\n",
    "movies_df.dropna(inplace=True)\n",
    "movies_df.drop_duplicates(inplace=True)"
   ]
  },
  {
   "cell_type": "code",
   "execution_count": null,
   "metadata": {},
   "outputs": [],
   "source": [
    "movies_df"
   ]
  },
  {
   "cell_type": "code",
   "execution_count": null,
   "metadata": {},
   "outputs": [],
   "source": [
    "# Extracting features\n",
    "movies_df[\"genres\"] = movies_df[\"genres\"].apply(lambda x: [d[\"name\"] for d in x] if isinstance(x, list) else [])\n",
    "movies_df[\"keywords\"] = movies_df[\"keywords\"].apply(lambda x: [d[\"name\"] for d in x] if isinstance(x, list) else [])\n",
    "movies_df[\"cast\"] = movies_df[\"cast\"].apply(lambda x: [d[\"name\"] for d in x[:5]] if isinstance(x, list) else [])\n",
    "movies_df[\"director\"] = movies_df[\"crew\"].apply(lambda x: [d[\"name\"] for d in x if d[\"job\"] == \"Director\"] if isinstance(x, list) else [])\n",
    "movies_df[\"director\"] = movies_df[\"director\"].apply(lambda x: x[0] if x else \"Unknown\")"
   ]
  },
  {
   "cell_type": "code",
   "execution_count": null,
   "metadata": {},
   "outputs": [],
   "source": [
    "#Functiom to convert JSON Column to list\n",
    "def convert(obj):\n",
    "    L=[]\n",
    "    for i in ast.literal_eval(obj):\n",
    "        L.append(i['name'])\n",
    "    return L"
   ]
  },
  {
   "cell_type": "code",
   "execution_count": null,
   "metadata": {},
   "outputs": [],
   "source": [
    "# Apply function on JSON-like columns\n",
    "movies_df['spoken_languages'] = movies_df['spoken_languages'].apply(convert)\n",
    "movies_df['crew'] = movies_df['crew'].apply(convert)"
   ]
  },
  {
   "cell_type": "code",
   "execution_count": null,
   "metadata": {},
   "outputs": [],
   "source": [
    "# Apply function on JSON-like columns\n",
    "movies_df['production_companies'] = movies_df['production_companies'].apply(convert)\n",
    "movies_df['production_countries'] = movies_df['production_countries'].apply(convert)\n",
    "movies_df['production_countries'] = movies_df['production_countries'].apply(convert)"
   ]
  },
  {
   "cell_type": "code",
   "execution_count": null,
   "metadata": {},
   "outputs": [],
   "source": [
    "#save cleaned dataset for powerbi\n",
    "movies_df.to_csv(\"cleaned_data.csv\", index=False)"
   ]
  },
  {
   "cell_type": "code",
   "execution_count": null,
   "metadata": {},
   "outputs": [],
   "source": [
    "# Feature Creation: Combined Features for Recommendations\n",
    "movies_df[\"combined_features\"] = movies_df[\"title\"] + \" \" + movies_df[\"director\"] + \" \" + movies_df[\"keywords\"].apply(lambda x: \" \".join(x)) + \" \" + movies_df[\"cast\"].apply(lambda x: \" \".join(x)) + \" \" + movies_df[\"genres\"].apply(lambda x: \" \".join(x))"
   ]
  },
  {
   "cell_type": "code",
   "execution_count": null,
   "metadata": {},
   "outputs": [],
   "source": [
    "# Normalize Numeric Features\n",
    "scaler = MinMaxScaler()\n",
    "movies_df[[\"budget\", \"popularity\", \"revenue\"]] = scaler.fit_transform(movies_df[[\"budget\", \"popularity\", \"revenue\"]])"
   ]
  },
  {
   "cell_type": "code",
   "execution_count": null,
   "metadata": {},
   "outputs": [],
   "source": [
    "#Descriptive Analysis\n",
    "print(\"Average Budget:\", movies_df[\"budget\"].mean())\n",
    "print(\"Average Revenue:\", movies_df[\"revenue\"].mean())\n",
    "print(\"Vote Average Distribution:\")\n",
    "print(movies_df[\"vote_average\"].describe())\n",
    "print(\"Runtime Distribution:\")\n",
    "print(movies_df[\"runtime\"].describe())"
   ]
  },
  {
   "cell_type": "code",
   "execution_count": null,
   "metadata": {},
   "outputs": [],
   "source": [
    "## Top 10 Highest-Grossing Movies\n",
    "top_grossing = movies_df.sort_values(by=\"revenue\", ascending=False).head(10)\n",
    "print(\"Top 10 Highest-Grossing Movies:\")\n",
    "print(top_grossing[[\"title\", \"revenue\"]])"
   ]
  },
  {
   "cell_type": "code",
   "execution_count": null,
   "metadata": {},
   "outputs": [],
   "source": [
    "# Genre & Language Analysis\n",
    "genre_counts = movies_df[\"genres\"].explode().value_counts()\n",
    "language_counts = movies_df[\"original_language\"].value_counts()\n",
    "print(\"Most Common Genres:\")\n",
    "print(genre_counts.head(10))\n",
    "print(\"Most Common Languages:\")\n",
    "print(language_counts.head(10))"
   ]
  },
  {
   "cell_type": "code",
   "execution_count": null,
   "metadata": {},
   "outputs": [],
   "source": [
    "# Visualization of Budget Distribution\n",
    "plt.figure(figsize=(10,5))\n",
    "sns.histplot(movies_df[movies_df[\"budget\"] > 0][\"budget\"], bins=30, kde=True)\n",
    "plt.title(\"Distribution of Movie Budgets\")\n",
    "plt.xlabel(\"Budget ($)\")\n",
    "plt.show()"
   ]
  },
  {
   "cell_type": "code",
   "execution_count": null,
   "metadata": {},
   "outputs": [],
   "source": [
    "#Scatter Plot of Budget vs Revenue\n",
    "plt.figure(figsize=(10,5))\n",
    "sns.scatterplot(x=movies_df[\"budget\"], y=movies_df[\"revenue\"], alpha=0.5)\n",
    "plt.title(\"Budget vs. Revenue\")\n",
    "plt.xlabel(\"Budget ($)\")\n",
    "plt.ylabel(\"Revenue ($)\")\n",
    "plt.xscale(\"log\")\n",
    "plt.yscale(\"log\")\n",
    "plt.show()"
   ]
  },
  {
   "cell_type": "code",
   "execution_count": null,
   "metadata": {},
   "outputs": [],
   "source": [
    "#Top 10 most common Genres Visualization\n",
    "plt.figure(figsize=(10,5))\n",
    "genre_counts.head(10).plot(kind=\"bar\", color=\"skyblue\")\n",
    "plt.title(\"Top 10 Most Common Genres\")\n",
    "plt.xlabel(\"Genre\")\n",
    "plt.ylabel(\"Count\")\n",
    "plt.xticks(rotation=45)\n",
    "plt.show()"
   ]
  },
  {
   "cell_type": "code",
   "execution_count": null,
   "metadata": {},
   "outputs": [],
   "source": [
    "# Movie Recommendation System\n",
    "vectorizer = TfidfVectorizer(stop_words=\"english\")\n",
    "movies_df[\"combined_features\"] = movies_df[\"combined_features\"].fillna(\"Unknown\")\n",
    "tfidf_matrix = vectorizer.fit_transform(movies_df[\"combined_features\"])\n",
    "cosine_sim = cosine_similarity(tfidf_matrix, tfidf_matrix)"
   ]
  },
  {
   "cell_type": "code",
   "execution_count": null,
   "metadata": {},
   "outputs": [],
   "source": [
    "#movie recommending function\n",
    "def recommend_movies(title, df, cosine_sim):\n",
    "    indices = pd.Series(df.index, index=movies_df['title']).drop_duplicates()\n",
    "    idx = indices[title]\n",
    "    sim_scores = list(enumerate(cosine_sim[idx]))\n",
    "    sim_scores = sorted(sim_scores, key=lambda x: x[1], reverse=True)[1:6]\n",
    "    movie_indices = [i[0] for i in sim_scores]\n",
    "    return movies_df['title'].iloc[movie_indices]"
   ]
  },
  {
   "cell_type": "code",
   "execution_count": null,
   "metadata": {},
   "outputs": [],
   "source": [
    "# Example Usage\n",
    "print(recommend_movies(\"The Dark Knight\", movies_df, cosine_sim))"
   ]
  }
 ],
 "metadata": {
  "kernelspec": {
   "display_name": "Python 3",
   "language": "python",
   "name": "python3"
  },
  "language_info": {
   "codemirror_mode": {
    "name": "ipython",
    "version": 3
   },
   "file_extension": ".py",
   "mimetype": "text/x-python",
   "name": "python",
   "nbconvert_exporter": "python",
   "pygments_lexer": "ipython3",
   "version": "3.12.4"
  }
 },
 "nbformat": 4,
 "nbformat_minor": 2
}
